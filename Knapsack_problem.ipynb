{
 "cells": [
  {
   "cell_type": "markdown",
   "id": "ef152264",
   "metadata": {},
   "source": [
    "##### 0-1 KNAPSACK PROBLEM\n"
   ]
  },
  {
   "cell_type": "markdown",
   "id": "d62b1fae",
   "metadata": {},
   "source": [
    "For this assignment, i have tried to design an algorithm that search the best configuration of items in a set of knapsack, such that we have the maximum possible values and all the restraint are satisfied"
   ]
  },
  {
   "cell_type": "markdown",
   "id": "fcd8a0c9",
   "metadata": {},
   "source": [
    "To do that, I used a hill climbing method, starting from a greedy starting point, finding a good starting point that is also feasible with a random greed algorithm. The greed algorithm was an idea taken from Riccardo.\n",
    "The algorithm starts by creating a feasible greedy solution from a set of empty knapsacks that satisfy all the constraints (if i can add an item to its ideal knapsack i do it). Then, I iteratively tweak this solution changing the status of an item a random number of time (decided with a threshold that diminuish every iteration).\n",
    "During the process i save the best solution but also a current solution. I use an simulated annealing to change the current solution.\n",
    "\n"
   ]
  },
  {
   "cell_type": "markdown",
   "id": "a704874e",
   "metadata": {},
   "source": [
    "After testing the problems more times, the  best results has been:\n",
    "| **Test** | **Best Value** | **Time** | \n",
    "|:---------:|:-----------:|:----------:|\n",
    "| 1 | 1,065 | 0.2 s | \n",
    "| 2 | 45890 | 5 s | \n",
    "\n",
    "For problem 3 things get difficult. The items are too much to do a complete greedy initialitation feasible. The best is to find a good compromise between the base solution and the tweak implementation. The best value reached is 1400k.\n"
   ]
  },
  {
   "cell_type": "code",
   "execution_count": 1,
   "id": "a9b3192a",
   "metadata": {},
   "outputs": [],
   "source": [
    "import numpy as np\n",
    "import random\n",
    "import time\n",
    "import math\n"
   ]
  },
  {
   "cell_type": "code",
   "execution_count": 2,
   "id": "b9f1476e",
   "metadata": {},
   "outputs": [],
   "source": [
    "def FailureOfSolution(solution,WEIGHTS,CONSTRAINTS):\n",
    "    #an item can be in only one knapsack\n",
    "    if not np.all(solution.sum(axis=0) <= 1):\n",
    "        return False\n",
    "    if not np.all(solution @ WEIGHTS <= CONSTRAINTS):\n",
    "        return False\n",
    "    return True"
   ]
  },
  {
   "cell_type": "code",
   "execution_count": null,
   "id": "f1c5872a",
   "metadata": {},
   "outputs": [],
   "source": [
    "\n",
    "\n",
    "\n",
    "\n",
    "    "
   ]
  },
  {
   "cell_type": "code",
   "execution_count": 44,
   "id": "48fee122",
   "metadata": {},
   "outputs": [],
   "source": [
    "def BuiltASolution(NUM_KNAPSACKS, NUM_ITEMS, WEIGHTS, CONSTRAINTS, VALUES, max_items=500):\n",
    "\n",
    "\n",
    "\n",
    "    solution = np.full((NUM_KNAPSACKS, NUM_ITEMS), False)\n",
    "    new_solution = solution.copy()\n",
    "    remaining = np.array(CONSTRAINTS, dtype=float)\n",
    "\n",
    "    # compute ratio = value / total weight across dimensions to avoid broadcasting issues\n",
    "    weights_sum = np.sum(WEIGHTS, axis=1)\n",
    "    # avoid division by zero: replace zeros with a very small number\n",
    "    weights_sum_safe = np.where(weights_sum == 0, 1e-9, weights_sum)\n",
    "    ratio = np.array(VALUES) / weights_sum_safe\n",
    "    items = np.argsort(-ratio)\n",
    "    # if user requests only the first M items, limit items list\n",
    "    if max_items is not None:\n",
    "        M = min(int(max_items), NUM_ITEMS)\n",
    "        items = items[:M]\n",
    "    #items = rng.permutation(NUM_ITEMS)\n",
    "\n",
    "\n",
    "    for i in items:\n",
    "        best_knapsack = -1\n",
    "        best_residual = float('inf')\n",
    "\n",
    "        for k in range(NUM_KNAPSACKS):\n",
    "            # check that item fits in all dimensions of knapsack k\n",
    "            if np.all(WEIGHTS[i] <= remaining[k]):\n",
    "                residual = remaining[k] - WEIGHTS[i]\n",
    "                # use a scalar score (sum of residuals) to compare knapsacks\n",
    "                residual_score = np.sum(residual)\n",
    "                if residual_score < best_residual:\n",
    "                    best_residual = residual_score\n",
    "                    best_knapsack = k\n",
    "        if best_knapsack != -1:\n",
    "            new_solution[best_knapsack, i] = True\n",
    "            # accept the new assignment only if the solution remains valid\n",
    "            if FailureOfSolution(new_solution,WEIGHTS,CONSTRAINTS):\n",
    "                solution[best_knapsack, i] = True\n",
    "                remaining[best_knapsack] -= WEIGHTS[i]\n",
    "            else:\n",
    "                new_solution[best_knapsack, i] = False\n",
    "    return solution\n"
   ]
  },
  {
   "cell_type": "code",
   "execution_count": 4,
   "id": "20677561",
   "metadata": {},
   "outputs": [],
   "source": [
    "def EvaluationOfSolution(solution, VALUES):\n",
    "    sum=solution.sum(axis=0)\n",
    "    val=np.dot(sum,VALUES)\n",
    "    return val"
   ]
  },
  {
   "cell_type": "code",
   "execution_count": 5,
   "id": "2c83f3ff",
   "metadata": {},
   "outputs": [],
   "source": [
    "def TweakSolution(solution,WEIGHTS,CONSTRAINTS, VALUES, NUM_ITEMS,NUM_KNAPSACKS, threshold=0.8):\n",
    "    new_solution=solution.copy()\n",
    "    while random.random()<threshold:\n",
    "\n",
    "        i=np.random.randint(0,NUM_ITEMS)\n",
    "        j=np.random.randint(0,NUM_KNAPSACKS)\n",
    "        new_solution[j][i]= not new_solution[j][i]\n",
    "    \n",
    "    if FailureOfSolution(new_solution,WEIGHTS,CONSTRAINTS):\n",
    "        return (True, new_solution)\n",
    "    return (False,solution)"
   ]
  },
  {
   "cell_type": "code",
   "execution_count": 58,
   "id": "48e5258d",
   "metadata": {},
   "outputs": [],
   "source": [
    "def solvingFunction(NUM_KNAPSACKS, NUM_ITEMS, NUM_DIMENSION, VALUES, WEIGHTS, CONSTRAINTS, T0=0.3, eps=0.9999, steps=100000, rng_seed=None, show_progress=False):\n",
    "   \n",
    "    rng = np.random.default_rng(rng_seed)\n",
    "\n",
    "    # initial solutions: greedy starting points\n",
    "    # since it is a greedy deterministic function, make no sense to call it twice, it would return the same result\n",
    "    # this can be also a problem of your starting point, since it is a deterministic one and not random\n",
    "    best_solution = BuiltASolution(NUM_KNAPSACKS, NUM_ITEMS, WEIGHTS, CONSTRAINTS, VALUES)\n",
    "    current_solution = best_solution.copy()\n",
    "    current_value = EvaluationOfSolution(current_solution, VALUES)\n",
    "    best_value = current_value\n",
    "    print(\"strting value:\",current_value)\n",
    "\n",
    "    T = T0\n",
    "    S=0.8\n",
    "\n",
    "    for step in range(steps):\n",
    "        # propose a neighbor by tweaking the current solution\n",
    "        candidate = current_solution.copy()\n",
    "        new_flag, candidate = TweakSolution(candidate, WEIGHTS, CONSTRAINTS, VALUES, NUM_ITEMS, NUM_KNAPSACKS, threshold=S)\n",
    "        # evaluate candidate\n",
    "        candidate_value = EvaluationOfSolution(candidate, VALUES)\n",
    "        delta = candidate_value - current_value\n",
    "        accepted = False\n",
    "        if delta >= 0:\n",
    "            accepted = True\n",
    "        else:\n",
    "            # accept worse with probability exp(delta / T) (delta < 0)\n",
    "            if T > 0:\n",
    "                prob = math.exp(delta / T)\n",
    "            else:\n",
    "                prob = 0.0\n",
    "            if random.random() < prob:\n",
    "                accepted = True\n",
    "\n",
    "        if accepted:\n",
    "            current_solution = candidate\n",
    "            current_value = candidate_value\n",
    "            # update best if improved\n",
    "            if current_value > best_value:\n",
    "                best_solution = current_solution\n",
    "                best_value = current_value\n",
    "                if show_progress:\n",
    "                    print(\"New best solution found with value:\", best_value)\n",
    "\n",
    "        # cooling schedule\n",
    "        T *= eps\n",
    "        S*=eps\n",
    "\n",
    "        if show_progress and step % 1000 == 0:\n",
    "            print(f\"step={step} T={T:.6e} current={current_value} best={best_value}\")\n",
    "\n",
    "    return best_solution"
   ]
  },
  {
   "cell_type": "code",
   "execution_count": 59,
   "id": "f330aac0",
   "metadata": {},
   "outputs": [
    {
     "name": "stdout",
     "output_type": "stream",
     "text": [
      "strting value: 1065\n",
      "Final solution:\n",
      "1065\n"
     ]
    }
   ],
   "source": [
    "# Problem 1:\n",
    "rng = np.random.default_rng(seed=42)\n",
    "NUM_KNAPSACKS = 3\n",
    "NUM_ITEMS = 20\n",
    "NUM_DIMENSIONS = 2\n",
    "VALUES = rng.integers(0, 100, size=NUM_ITEMS)\n",
    "WEIGHTS = rng.integers(0, 100, size=(NUM_ITEMS, NUM_DIMENSIONS))\n",
    "CONSTRAINTS = rng.integers(0, 100 * NUM_ITEMS // NUM_KNAPSACKS, size=(NUM_KNAPSACKS,NUM_DIMENSIONS))\n",
    "\n",
    "solution=solvingFunction(NUM_KNAPSACKS, NUM_ITEMS, NUM_DIMENSIONS,VALUES,WEIGHTS, CONSTRAINTS)\n",
    "\n",
    "print(\"Final solution:\")\n",
    "print (EvaluationOfSolution(solution,VALUES)) "
   ]
  },
  {
   "cell_type": "code",
   "execution_count": 60,
   "id": "fa8a9a26",
   "metadata": {},
   "outputs": [
    {
     "name": "stdout",
     "output_type": "stream",
     "text": [
      "strting value: 45890\n",
      "Final solution:\n",
      "45890\n"
     ]
    }
   ],
   "source": [
    "# Problem 2:\n",
    "rng = np.random.default_rng(seed=42)\n",
    "NUM_KNAPSACKS = 10\n",
    "NUM_ITEMS = 100\n",
    "NUM_DIMENSIONS = 10\n",
    "VALUES = rng.integers(0, 1000, size=NUM_ITEMS)\n",
    "WEIGHTS = rng.integers(0, 1000, size=(NUM_ITEMS, NUM_DIMENSIONS))\n",
    "CONSTRAINTS = rng.integers(1000 * 2, 1000 * NUM_ITEMS // NUM_KNAPSACKS,size=(NUM_KNAPSACKS,NUM_DIMENSIONS))\n",
    "\n",
    "solution=solvingFunction(NUM_KNAPSACKS, NUM_ITEMS, NUM_DIMENSIONS,VALUES,WEIGHTS, CONSTRAINTS)\n",
    "\n",
    "print(\"Final solution:\")\n",
    "print (EvaluationOfSolution(solution,VALUES)) "
   ]
  },
  {
   "cell_type": "code",
   "execution_count": null,
   "id": "bdbd87ac",
   "metadata": {},
   "outputs": [],
   "source": [
    "# Problem 3:\n",
    "rng = np.random.default_rng(seed=42)\n",
    "NUM_KNAPSACKS = 100\n",
    "NUM_ITEMS = 5000\n",
    "NUM_DIMENSIONS = 100\n",
    "VALUES = rng.integers(0, 1000, size=NUM_ITEMS)\n",
    "WEIGHTS = rng.integers(0, 1000, size=(NUM_ITEMS, NUM_DIMENSIONS))\n",
    "CONSTRAINTS = rng.integers(1000 * 10, 1000 * 2 * NUM_ITEMS // NUM_KNAPSACKS, size=(NUM_KNAPSACKS,NUM_DIMENSIONS))\n",
    "solution=solvingFunction(NUM_KNAPSACKS, NUM_ITEMS, NUM_DIMENSIONS,VALUES,WEIGHTS, CONSTRAINTS)\n",
    "\n",
    "print(\"Final solution:\")\n",
    "print (EvaluationOfSolution(solution,VALUES)) "
   ]
  }
 ],
 "metadata": {
  "kernelspec": {
   "display_name": "Python 3",
   "language": "python",
   "name": "python3"
  },
  "language_info": {
   "codemirror_mode": {
    "name": "ipython",
    "version": 3
   },
   "file_extension": ".py",
   "mimetype": "text/x-python",
   "name": "python",
   "nbconvert_exporter": "python",
   "pygments_lexer": "ipython3",
   "version": "3.11.7"
  }
 },
 "nbformat": 4,
 "nbformat_minor": 5
}
