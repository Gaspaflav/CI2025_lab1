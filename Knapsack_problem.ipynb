{
 "cells": [
  {
   "cell_type": "markdown",
   "id": "ef152264",
   "metadata": {},
   "source": [
    "##### 0-1 KNAPSACK PROBLEM\n"
   ]
  },
  {
   "cell_type": "markdown",
   "id": "d62b1fae",
   "metadata": {},
   "source": [
    "For this assignment, i have tried to design an algorithm that search the best configuration of items in a set of knapsack, such that we have the maximum possible values and all the restraint are satisfied"
   ]
  },
  {
   "cell_type": "markdown",
   "id": "fcd8a0c9",
   "metadata": {},
   "source": [
    "To do that, I used a hill climbing method, which relies significantly on exploration.\n",
    "The algorithm starts by creating a feasible solution, a set of empty knapsacks that satisfy all the constraints. Then, I iteratively tweak this solution by adding an item and checking whether the constraints are still satisfied and (I assume values is always positive). If i have find a better solution, i upgrade my best solution\n",
    "\n",
    "This exploitation strategy is not optimal because, once an item is added to a knapsack, it cannot be removed later.\n",
    "\n",
    "For this reason, the algorithm relies more on exploration than on exploitation.\n",
    "I explore a large number of possible solutions, proportionally to the complexity of the problem, and exploit any promising ones.\n",
    "\n",
    "It stops when it doesnt have found an increase of the value in a certain number of search, depending on the size of the problem and how much accuracy we are searching. For the first two tests I have set an high accuracy, instead on the last one I use a small number of iteration, because of the complexity of the problem.The high accuracy approach was interrupt by hand after 6 hours\n"
   ]
  },
  {
   "cell_type": "markdown",
   "id": "a704874e",
   "metadata": {},
   "source": [
    "After testing the problems more times, the  best results has been:\n",
    "| **Test** | **Best Value** | **Time** | **Mode** |\n",
    "|:---------:|:-----------:|:----------:|:--------------:|\n",
    "| 1 | 1,065 | 0.2 s | Normal |\n",
    "| 2 | 40,065 | 4 min | Normal |\n",
    "| 3 | 1,133,828 | 6 h | Normal |\n",
    "| 3| 126,607 | 20 min | Fast |\n"
   ]
  },
  {
   "cell_type": "code",
   "execution_count": 27,
   "id": "a9b3192a",
   "metadata": {},
   "outputs": [],
   "source": [
    "import numpy as np\n",
    "import random\n"
   ]
  },
  {
   "cell_type": "code",
   "execution_count": 28,
   "id": "b9f1476e",
   "metadata": {},
   "outputs": [],
   "source": [
    "def FailureOfSolution(solution,WEIGHTS,CONSTRAINTS):\n",
    "    #an item can be in only one knapsack\n",
    "    if not np.all(solution.sum(axis=0) <= 1):\n",
    "        return False\n",
    "    if not np.all(solution @ WEIGHTS <= CONSTRAINTS):\n",
    "        return False\n",
    "    return True"
   ]
  },
  {
   "cell_type": "code",
   "execution_count": 29,
   "id": "f1c5872a",
   "metadata": {},
   "outputs": [],
   "source": [
    "def BuiltASolution(NUM_KNAPSACKS,NUM_ITEMS,WEIGHTS,CONSTRAINTS):\n",
    "    solution= vettore = np.full((NUM_KNAPSACKS,NUM_ITEMS ), False)\n",
    "    while FailureOfSolution(solution,WEIGHTS,CONSTRAINTS):\n",
    "        new_solution=solution.copy()\n",
    "        x=True\n",
    "        while x:\n",
    "            i=np.random.randint(0,NUM_ITEMS)\n",
    "            j=np.random.randint(0,NUM_KNAPSACKS)\n",
    "            if solution[j][i]==0:\n",
    "                x=False\n",
    "        if not solution[j][i]:\n",
    "            new_solution[j][i]= not new_solution[j][i]\n",
    "        if not FailureOfSolution(new_solution,WEIGHTS,CONSTRAINTS):\n",
    "            break\n",
    "        solution=new_solution\n",
    "\n",
    "\n",
    "\n",
    "\n",
    "\n",
    "    return solution\n",
    "    "
   ]
  },
  {
   "cell_type": "code",
   "execution_count": 30,
   "id": "20677561",
   "metadata": {},
   "outputs": [],
   "source": [
    "def EvaluationOfSolution(solution, VALUES):\n",
    "    sum=solution.sum(axis=0)\n",
    "    val=np.dot(sum,VALUES)\n",
    "    return val"
   ]
  },
  {
   "cell_type": "code",
   "execution_count": 31,
   "id": "2c83f3ff",
   "metadata": {},
   "outputs": [],
   "source": [
    "def TweakSolution(solution,WEIGHTS,CONSTRAINTS, VALUES, NUM_ITEMS,NUM_KNAPSACKS):\n",
    "    new_solution=solution.copy()\n",
    "    x=True\n",
    "    while x:\n",
    "        i=np.random.randint(0,NUM_ITEMS)\n",
    "        j=np.random.randint(0,NUM_KNAPSACKS)\n",
    "        if solution[j][i]==0:\n",
    "            x=False\n",
    "    if not solution[j][i]:\n",
    "        new_solution[j][i]= not new_solution[j][i]\n",
    "    \n",
    "    if FailureOfSolution(new_solution,WEIGHTS,CONSTRAINTS):\n",
    "        return (True, new_solution)\n",
    "    return (False,solution)"
   ]
  },
  {
   "cell_type": "code",
   "execution_count": null,
   "id": "48e5258d",
   "metadata": {},
   "outputs": [],
   "source": [
    "def solvingFunction(NUM_KNAPSACKS, NUM_ITEMS, NUM_DIMENSION,VALUES,WEIGHTS, CONSTRAINTS, fast_pace=False, max=0):\n",
    "    #initialize the solution array\n",
    "    new_max=0\n",
    "    max_iteration=NUM_ITEMS*NUM_KNAPSACKS\n",
    "    if fast_pace:\n",
    "        max_iteration=max\n",
    "\n",
    "\n",
    "    best_solution=BuiltASolution(NUM_KNAPSACKS,NUM_ITEMS,WEIGHTS,CONSTRAINTS)\n",
    "    while new_max< max_iteration:\n",
    "\n",
    "        new_max+=1\n",
    "        new_sol=0\n",
    "        solution=BuiltASolution(NUM_KNAPSACKS,NUM_ITEMS,WEIGHTS,CONSTRAINTS)\n",
    "        while new_sol< max_iteration:\n",
    "            new_sol+=1\n",
    "            new, solution=TweakSolution(solution,WEIGHTS,CONSTRAINTS, VALUES, NUM_ITEMS,NUM_KNAPSACKS)\n",
    "            if new and not(fast_pace):\n",
    "                new_sol=0\n",
    "        if EvaluationOfSolution(solution,VALUES)>EvaluationOfSolution(best_solution,VALUES):\n",
    "            best_solution=solution\n",
    "            new_max=0\n",
    "            print (\"New best solution found with value:\")\n",
    "            print(EvaluationOfSolution(best_solution,VALUES))\n",
    "    \n",
    "\n",
    "\n",
    "    return best_solution"
   ]
  },
  {
   "cell_type": "code",
   "execution_count": 34,
   "id": "f330aac0",
   "metadata": {},
   "outputs": [
    {
     "name": "stdout",
     "output_type": "stream",
     "text": [
      "New best solution found with value:\n",
      "1065\n",
      "Final solution:\n",
      "1065\n"
     ]
    }
   ],
   "source": [
    "# Problem 1:\n",
    "rng = np.random.default_rng(seed=42)\n",
    "NUM_KNAPSACKS = 3\n",
    "NUM_ITEMS = 20\n",
    "NUM_DIMENSIONS = 2\n",
    "VALUES = rng.integers(0, 100, size=NUM_ITEMS)\n",
    "WEIGHTS = rng.integers(0, 100, size=(NUM_ITEMS, NUM_DIMENSIONS))\n",
    "CONSTRAINTS = rng.integers(0, 100 * NUM_ITEMS // NUM_KNAPSACKS, size=(NUM_KNAPSACKS,NUM_DIMENSIONS))\n",
    "\n",
    "solution=solvingFunction(NUM_KNAPSACKS, NUM_ITEMS, NUM_DIMENSIONS,VALUES,WEIGHTS, CONSTRAINTS)\n",
    "\n",
    "print(\"Final solution:\")\n",
    "print (EvaluationOfSolution(solution,VALUES)) "
   ]
  },
  {
   "cell_type": "code",
   "execution_count": 35,
   "id": "fa8a9a26",
   "metadata": {},
   "outputs": [
    {
     "name": "stdout",
     "output_type": "stream",
     "text": [
      "New best solution found with value:\n",
      "31710\n",
      "New best solution found with value:\n",
      "37485\n",
      "New best solution found with value:\n",
      "38254\n",
      "New best solution found with value:\n",
      "39160\n",
      "Final solution:\n",
      "39160\n"
     ]
    }
   ],
   "source": [
    "# Problem 2:\n",
    "rng = np.random.default_rng(seed=42)\n",
    "NUM_KNAPSACKS = 10\n",
    "NUM_ITEMS = 100\n",
    "NUM_DIMENSIONS = 10\n",
    "VALUES = rng.integers(0, 1000, size=NUM_ITEMS)\n",
    "WEIGHTS = rng.integers(0, 1000, size=(NUM_ITEMS, NUM_DIMENSIONS))\n",
    "CONSTRAINTS = rng.integers(1000 * 2, 1000 * NUM_ITEMS // NUM_KNAPSACKS,size=(NUM_KNAPSACKS,NUM_DIMENSIONS))\n",
    "\n",
    "solution=solvingFunction(NUM_KNAPSACKS, NUM_ITEMS, NUM_DIMENSIONS,VALUES,WEIGHTS, CONSTRAINTS)\n",
    "\n",
    "print(\"Final solution:\")\n",
    "print (EvaluationOfSolution(solution,VALUES)) "
   ]
  },
  {
   "cell_type": "code",
   "execution_count": null,
   "id": "bdbd87ac",
   "metadata": {},
   "outputs": [
    {
     "name": "stdout",
     "output_type": "stream",
     "text": [
      "New best solution found with value:\n",
      "90351\n",
      "New best solution found with value:\n",
      "126607\n",
      "Final solution:\n",
      "126607\n"
     ]
    }
   ],
   "source": [
    "# Problem 3:\n",
    "rng = np.random.default_rng(seed=42)\n",
    "NUM_KNAPSACKS = 100\n",
    "NUM_ITEMS = 5000\n",
    "NUM_DIMENSIONS = 100\n",
    "VALUES = rng.integers(0, 1000, size=NUM_ITEMS)\n",
    "WEIGHTS = rng.integers(0, 1000, size=(NUM_ITEMS, NUM_DIMENSIONS))\n",
    "CONSTRAINTS = rng.integers(1000 * 10, 1000 * 2 * NUM_ITEMS // NUM_KNAPSACKS, size=(NUM_KNAPSACKS,NUM_DIMENSIONS))\n",
    "solution=solvingFunction(NUM_KNAPSACKS, NUM_ITEMS, NUM_DIMENSIONS,VALUES,WEIGHTS, CONSTRAINTS, True,20)\n",
    "\n",
    "print(\"Final solution:\")\n",
    "print (EvaluationOfSolution(solution,VALUES)) "
   ]
  }
 ],
 "metadata": {
  "kernelspec": {
   "display_name": "Python 3",
   "language": "python",
   "name": "python3"
  },
  "language_info": {
   "codemirror_mode": {
    "name": "ipython",
    "version": 3
   },
   "file_extension": ".py",
   "mimetype": "text/x-python",
   "name": "python",
   "nbconvert_exporter": "python",
   "pygments_lexer": "ipython3",
   "version": "3.13.2"
  }
 },
 "nbformat": 4,
 "nbformat_minor": 5
}
